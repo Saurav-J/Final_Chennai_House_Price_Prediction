{
  "nbformat": 4,
  "nbformat_minor": 0,
  "metadata": {
    "colab": {
      "provenance": [],
      "authorship_tag": "ABX9TyMXEmdIlT3kgvTSpO1ljjzB",
      "include_colab_link": true
    },
    "kernelspec": {
      "name": "python3",
      "display_name": "Python 3"
    },
    "language_info": {
      "name": "python"
    }
  },
  "cells": [
    {
      "cell_type": "markdown",
      "metadata": {
        "id": "view-in-github",
        "colab_type": "text"
      },
      "source": [
        "<a href=\"https://colab.research.google.com/github/Saurav-J/Final_Chennai_House_Price_Prediction/blob/main/FluidAI_Python_Assignment.ipynb\" target=\"_parent\"><img src=\"https://colab.research.google.com/assets/colab-badge.svg\" alt=\"Open In Colab\"/></a>"
      ]
    },
    {
      "cell_type": "code",
      "execution_count": 14,
      "metadata": {
        "id": "3Ab24ExxrbmF"
      },
      "outputs": [],
      "source": [
        "%pip install -qU pypdf langchain_community"
      ]
    },
    {
      "cell_type": "code",
      "source": [
        "from langchain_community.document_loaders import PyPDFLoader"
      ],
      "metadata": {
        "id": "LYUAG1uorwea"
      },
      "execution_count": 15,
      "outputs": []
    },
    {
      "source": [
        "!pip install -qU pypdf langchain_community\n",
        "\n",
        "from langchain_community.document_loaders import PyPDFLoader\n",
        "\n",
        "file_path = \"https://drive.google.com/uc?export=download&id=1sXv22YMcuSp9_w9JTjySwtVMhHsnZUOK\"\n",
        "\n",
        "\n",
        "loader = PyPDFLoader(file_path)\n",
        "\n",
        "docs = loader.load()\n",
        "\n",
        "print(len(docs))"
      ],
      "cell_type": "code",
      "metadata": {
        "colab": {
          "base_uri": "https://localhost:8080/"
        },
        "id": "Mpj-3Zxc-m8i",
        "outputId": "a00d5d81-1f71-4334-d1f9-d6ce3b656fd3"
      },
      "execution_count": 37,
      "outputs": [
        {
          "output_type": "stream",
          "name": "stdout",
          "text": [
            "19\n"
          ]
        }
      ]
    },
    {
      "cell_type": "code",
      "source": [
        "print(docs[0].page_content[0:700])\n",
        "print(docs[0].metadata)"
      ],
      "metadata": {
        "colab": {
          "base_uri": "https://localhost:8080/"
        },
        "id": "07X2sj8D-4Tk",
        "outputId": "4da7ea40-e69b-4ab8-f04a-a55c57ab92ba"
      },
      "execution_count": 38,
      "outputs": [
        {
          "output_type": "stream",
          "name": "stdout",
          "text": [
            " \n",
            " \n",
            "August 03, 2023 \n",
            "To, \n",
            "National Stock Exchange of India Limited \n",
            "Exchange Plaza, 5th Floor, \n",
            "Plot No. C/1, G Block, \n",
            "Bandra – Kurla Complex, \n",
            "Bandra (E), Mumbai -400 051 \n",
            " \n",
            "Symbol: SJS \n",
            "BSE Limited \n",
            "Corporate Relationship Department, \n",
            "2nd Floor, New Trading Wing, \n",
            "Rotunda Building, P.J. Towers, \n",
            "Dalal Street, Mumbai – 400 001 \n",
            " \n",
            "Scrip Code: 543387 \n",
            " \n",
            "ISIN: INE284S01014 \n",
            " \n",
            "Dear Sir/Madam,  \n",
            " \n",
            "Subject: Transcripts of Analysts/Investor Meet/ Earnings Call of the Company pertaining to Q1 of FY \n",
            "2023-24 \n",
            "Please find enclosed the transcripts of the Analysts/Investor Meet/ Earnings Call of Q1 FY 2023-24 held \n",
            "on July 27, 2023. \n",
            " \n",
            "You are requested to kindly take the same on record. \n",
            " \n",
            "Thanking y\n",
            "{'source': 'https://drive.google.com/uc?export=download&id=1sXv22YMcuSp9_w9JTjySwtVMhHsnZUOK', 'page': 0}\n"
          ]
        }
      ]
    },
    {
      "cell_type": "code",
      "source": [
        "pip install -qU langchain-groq"
      ],
      "metadata": {
        "id": "s5o189O6FWzv"
      },
      "execution_count": 39,
      "outputs": []
    },
    {
      "cell_type": "code",
      "source": [
        "import getpass\n",
        "import os\n",
        "\n",
        "os.environ[\"GROQ_API_KEY\"] = getpass.getpass()\n",
        "\n",
        "from langchain_groq import ChatGroq\n",
        "\n",
        "llm = ChatGroq(model = \"llama3-8b-8192\")"
      ],
      "metadata": {
        "colab": {
          "base_uri": "https://localhost:8080/"
        },
        "id": "Es-WzRFnFpxP",
        "outputId": "b8e6d89b-a27c-44bb-be7e-810c1969199d"
      },
      "execution_count": 40,
      "outputs": [
        {
          "name": "stdout",
          "output_type": "stream",
          "text": [
            "··········\n"
          ]
        }
      ]
    },
    {
      "source": [
        "!pip install sentence_transformers\n",
        "\n",
        "import os\n",
        "from langchain_core.vectorstores import InMemoryVectorStore\n",
        "from langchain_text_splitters import RecursiveCharacterTextSplitter\n",
        "from sentence_transformers import SentenceTransformer\n",
        "from langchain.embeddings import SentenceTransformerEmbeddings\n",
        "\n",
        "embedding_model = SentenceTransformer('all-mpnet-base-v2')\n",
        "\n",
        "embeddings = SentenceTransformerEmbeddings(model_name='all-mpnet-base-v2')\n",
        "\n",
        "text_splitter = RecursiveCharacterTextSplitter(chunk_size=1000, chunk_overlap=200)\n",
        "splits = text_splitter.split_documents(docs)\n",
        "\n",
        "vectorstore = InMemoryVectorStore.from_documents(\n",
        "    documents=splits,\n",
        "    embedding=embeddings,\n",
        ")\n",
        "\n",
        "retriever = vectorstore.as_retriever()"
      ],
      "cell_type": "code",
      "metadata": {
        "colab": {
          "base_uri": "https://localhost:8080/"
        },
        "id": "g3gPLLuoMgsH",
        "outputId": "5ecde9ba-1a81-40cb-d0c5-896c0b89f2f1"
      },
      "execution_count": 41,
      "outputs": [
        {
          "output_type": "stream",
          "name": "stdout",
          "text": [
            "Requirement already satisfied: sentence_transformers in /usr/local/lib/python3.10/dist-packages (3.2.1)\n",
            "Requirement already satisfied: transformers<5.0.0,>=4.41.0 in /usr/local/lib/python3.10/dist-packages (from sentence_transformers) (4.44.2)\n",
            "Requirement already satisfied: tqdm in /usr/local/lib/python3.10/dist-packages (from sentence_transformers) (4.66.6)\n",
            "Requirement already satisfied: torch>=1.11.0 in /usr/local/lib/python3.10/dist-packages (from sentence_transformers) (2.5.0+cu121)\n",
            "Requirement already satisfied: scikit-learn in /usr/local/lib/python3.10/dist-packages (from sentence_transformers) (1.5.2)\n",
            "Requirement already satisfied: scipy in /usr/local/lib/python3.10/dist-packages (from sentence_transformers) (1.13.1)\n",
            "Requirement already satisfied: huggingface-hub>=0.20.0 in /usr/local/lib/python3.10/dist-packages (from sentence_transformers) (0.24.7)\n",
            "Requirement already satisfied: Pillow in /usr/local/lib/python3.10/dist-packages (from sentence_transformers) (10.4.0)\n",
            "Requirement already satisfied: filelock in /usr/local/lib/python3.10/dist-packages (from huggingface-hub>=0.20.0->sentence_transformers) (3.16.1)\n",
            "Requirement already satisfied: fsspec>=2023.5.0 in /usr/local/lib/python3.10/dist-packages (from huggingface-hub>=0.20.0->sentence_transformers) (2024.10.0)\n",
            "Requirement already satisfied: packaging>=20.9 in /usr/local/lib/python3.10/dist-packages (from huggingface-hub>=0.20.0->sentence_transformers) (24.1)\n",
            "Requirement already satisfied: pyyaml>=5.1 in /usr/local/lib/python3.10/dist-packages (from huggingface-hub>=0.20.0->sentence_transformers) (6.0.2)\n",
            "Requirement already satisfied: requests in /usr/local/lib/python3.10/dist-packages (from huggingface-hub>=0.20.0->sentence_transformers) (2.32.3)\n",
            "Requirement already satisfied: typing-extensions>=3.7.4.3 in /usr/local/lib/python3.10/dist-packages (from huggingface-hub>=0.20.0->sentence_transformers) (4.12.2)\n",
            "Requirement already satisfied: networkx in /usr/local/lib/python3.10/dist-packages (from torch>=1.11.0->sentence_transformers) (3.4.2)\n",
            "Requirement already satisfied: jinja2 in /usr/local/lib/python3.10/dist-packages (from torch>=1.11.0->sentence_transformers) (3.1.4)\n",
            "Requirement already satisfied: sympy==1.13.1 in /usr/local/lib/python3.10/dist-packages (from torch>=1.11.0->sentence_transformers) (1.13.1)\n",
            "Requirement already satisfied: mpmath<1.4,>=1.1.0 in /usr/local/lib/python3.10/dist-packages (from sympy==1.13.1->torch>=1.11.0->sentence_transformers) (1.3.0)\n",
            "Requirement already satisfied: numpy>=1.17 in /usr/local/lib/python3.10/dist-packages (from transformers<5.0.0,>=4.41.0->sentence_transformers) (1.26.4)\n",
            "Requirement already satisfied: regex!=2019.12.17 in /usr/local/lib/python3.10/dist-packages (from transformers<5.0.0,>=4.41.0->sentence_transformers) (2024.9.11)\n",
            "Requirement already satisfied: safetensors>=0.4.1 in /usr/local/lib/python3.10/dist-packages (from transformers<5.0.0,>=4.41.0->sentence_transformers) (0.4.5)\n",
            "Requirement already satisfied: tokenizers<0.20,>=0.19 in /usr/local/lib/python3.10/dist-packages (from transformers<5.0.0,>=4.41.0->sentence_transformers) (0.19.1)\n",
            "Requirement already satisfied: joblib>=1.2.0 in /usr/local/lib/python3.10/dist-packages (from scikit-learn->sentence_transformers) (1.4.2)\n",
            "Requirement already satisfied: threadpoolctl>=3.1.0 in /usr/local/lib/python3.10/dist-packages (from scikit-learn->sentence_transformers) (3.5.0)\n",
            "Requirement already satisfied: MarkupSafe>=2.0 in /usr/local/lib/python3.10/dist-packages (from jinja2->torch>=1.11.0->sentence_transformers) (3.0.2)\n",
            "Requirement already satisfied: charset-normalizer<4,>=2 in /usr/local/lib/python3.10/dist-packages (from requests->huggingface-hub>=0.20.0->sentence_transformers) (3.4.0)\n",
            "Requirement already satisfied: idna<4,>=2.5 in /usr/local/lib/python3.10/dist-packages (from requests->huggingface-hub>=0.20.0->sentence_transformers) (3.10)\n",
            "Requirement already satisfied: urllib3<3,>=1.21.1 in /usr/local/lib/python3.10/dist-packages (from requests->huggingface-hub>=0.20.0->sentence_transformers) (2.2.3)\n",
            "Requirement already satisfied: certifi>=2017.4.17 in /usr/local/lib/python3.10/dist-packages (from requests->huggingface-hub>=0.20.0->sentence_transformers) (2024.8.30)\n"
          ]
        },
        {
          "output_type": "stream",
          "name": "stderr",
          "text": [
            "/usr/local/lib/python3.10/dist-packages/transformers/tokenization_utils_base.py:1601: FutureWarning: `clean_up_tokenization_spaces` was not set. It will be set to `True` by default. This behavior will be depracted in transformers v4.45, and will be then set to `False` by default. For more details check this issue: https://github.com/huggingface/transformers/issues/31884\n",
            "  warnings.warn(\n"
          ]
        }
      ]
    },
    {
      "cell_type": "code",
      "source": [
        "from langchain.chains import create_retrieval_chain\n",
        "from langchain.chains.combine_documents import create_stuff_documents_chain\n",
        "from langchain_core.prompts import ChatPromptTemplate\n",
        "\n",
        "system_prompt = (\n",
        "    \"You are an assistant for question-answering tasks. \"\n",
        "    \"Use the following pieces of retrieved context to answer \"\n",
        "    \"the question. If you don't know the answer, say that you \"\n",
        "    \"don't know. Use three sentences maximum and keep the \"\n",
        "    \"answer concise.\"\n",
        "    \"{context}\"\n",
        ")\n",
        "\n",
        "prompt = ChatPromptTemplate.from_messages(\n",
        "    [\n",
        "        (\"system\", system_prompt),\n",
        "        (\"human\", \"{input}\"),\n",
        "    ]\n",
        ")\n",
        "\n",
        "\n",
        "question_answer_chain = create_stuff_documents_chain(llm, prompt)\n",
        "rag_chain = create_retrieval_chain(retriever, question_answer_chain)\n",
        "\n",
        "results = rag_chain.invoke({\"input\": \"What is future growth prospects?\"})\n",
        "\n",
        "results"
      ],
      "metadata": {
        "colab": {
          "base_uri": "https://localhost:8080/"
        },
        "id": "y7kcxENpNBNr",
        "outputId": "9ccc6ee3-d0dc-41d8-e6b7-e7a1f5c4eb77"
      },
      "execution_count": 43,
      "outputs": [
        {
          "output_type": "execute_result",
          "data": {
            "text/plain": [
              "{'input': 'What is future growth prospects?',\n",
              " 'context': [Document(id='9c89b901-c1fe-4bce-93db-deb6d4a229da', metadata={'source': 'https://drive.google.com/uc?export=download&id=1sXv22YMcuSp9_w9JTjySwtVMhHsnZUOK', 'page': 13}, page_content=\"Shrinjana Mittal: So like going forward like for the year organically we are guiding for around 20%, 25% only for \\nexport business. Like what are we targeting on the growth plan? \\nSanjay Thapar: We don't provide guidance specifically, but as I said earlier in my co mmentary, on QoQ basis, \\nexports has jumped up double , about 90% growth overall, this last quarter versus the quarter a \\nyear before. And moving forward, we feel that this momentum should continue. We expect \\ngrowth to return. So for us, Asia, EMEA and South America have grown well. North America \\nand Europe still continue to be in the recovery mode. So it's a wait-and-watch situation there. \\nBut overall we feel that we should come back to the  pre-disruption levels that were there last \\nyear… so we should come back to what we were a year ago. \\nModerator: Our next question is from the line of Ridhima Goyal from Acquaintbee Ventures. Please go \\nahead.\"),\n",
              "  Document(id='363e4e04-c87c-4fe4-b762-f1960a0a5fbc', metadata={'source': 'https://drive.google.com/uc?export=download&id=1sXv22YMcuSp9_w9JTjySwtVMhHsnZUOK', 'page': 13}, page_content=\"wanted to see like what was it last quarter because you mentioned that the exports have grown \\nin this quarter? \\nMahendra Naredi: Last quarter our export was 7.9% which has now gone up to 11%. \\nDevanshi Dhruva: In fact the entire last year, if you will see because of the geopolitical issues in Europe as well as \\nmacroeconomic issues in North America, exports had been impacted. And overall for the year \\nin fact exports took a dip of almost 32% degrowth, but this year w e are seeing the demand \\ncoming back in Europe as well as we are winning new businesses on our export front . So that's \\nwhy we are seeing the growth coming back and export revenue has almost doubled this quarter \\nas compared to last year same quarter. \\nShrinjana Mittal: So like going forward like for the year organically we are guiding for around 20%, 25% only for \\nexport business. Like what are we targeting on the growth plan?\"),\n",
              "  Document(id='aece6427-d237-45ac-9297-ef3c3421666a', metadata={'source': 'https://drive.google.com/uc?export=download&id=1sXv22YMcuSp9_w9JTjySwtVMhHsnZUOK', 'page': 10}, page_content=\"will have these new generation technologies coming in. So while on a n overall consolidated \\nlevel, we have guided that we will grow at about 20% to 25% organically. And Walter Pack also \\nwill grow at that . This year they'll grow a little faster because they address also a consumer \\ndurable segment. And overall, I would like you to think of us as an entity that has an end-to-end \\nsolution for all aesthetic parts and Walter Pack is going to actually help us introduce a lot of new \\ntechnologies to the customers in India and overseas. So, I think the growth path is extremely \\npositive for Walter Pack. \\nDevanshi Dhruva: So for F Y24, as we have guided last time also, overall consol growth including WP I will be \\n50%. So you can interpret the growth with that because organic growth of SJS and Exotech \\ntogether, as Sanjay mentioned will be 20% to 25%. \\nModerator: Our next question is from the line of Mr. Ronak Mehta from JM Financial. Please go ahead with \\nyour question.\"),\n",
              "  Document(id='87e8e8cc-62d8-48fc-812c-b31767fa4a0e', metadata={'source': 'https://drive.google.com/uc?export=download&id=1sXv22YMcuSp9_w9JTjySwtVMhHsnZUOK', 'page': 14}, page_content=\"businesses that we could do with the likes of Whirlpool and the other appliance manufacturers. \\nSo that in the long or the medium to long term would be very large growth drivers for our \\nconsumer appliance business. Look at this company as a consolidated entity. That's what I would \\nencourage everybody to see. So our dependence on two wheelers have come down . Two \\nwheelers and four wheelers now are largely similar, thanks to the addition of Walter Pack to our \\nbusiness and the consumer appliance business also will be significantly higher, thanks to a large \\nproportion of Walter Pack revenues going to the consumer businesses. So overall, I think we will \\ngrow at about 20 % - 25% as we guided earlier in terms of the mi d-term growth guidance that \\nwe have given. \\nDevanshi Dhruva: Also, if you'll notice, last year we added Mabe group and even IFB on our consumer appliances \\nfront. And those will also grow over a period of time because initially as we said that whenever\")],\n",
              " 'answer': 'According to the conversation, the company is guiding for 20-25% organic growth for the year, with the export business expected to grow within this range. In the long term, the company sees growth drivers from new generation technologies and businesses with appliance manufacturers, such as Whirlpool. Overall, the company is expected to grow at 50% in FY24, with organic growth of SJS and Exotech together at 20-25%.'}"
            ]
          },
          "metadata": {},
          "execution_count": 43
        }
      ]
    },
    {
      "cell_type": "code",
      "source": [
        "results = rag_chain.invoke({\"input\": \"What is the key changes in the business?\"})\n",
        "\n",
        "results"
      ],
      "metadata": {
        "colab": {
          "base_uri": "https://localhost:8080/"
        },
        "id": "iKvrV7ulPYHp",
        "outputId": "b3283c15-dc7f-4e7b-ff3c-852fca18641a"
      },
      "execution_count": 34,
      "outputs": [
        {
          "output_type": "execute_result",
          "data": {
            "text/plain": [
              "{'input': 'What is the key changes in the business?',\n",
              " 'context': [Document(id='f692186e-a296-4448-9106-a83c9d5a6347', metadata={'source': 'https://drive.google.com/uc?export=download&id=1sXv22YMcuSp9_w9JTjySwtVMhHsnZUOK', 'page': 7}, page_content='This of course will be post consolidating at 90.1% stake in Walter Pack for a nine month period \\nin this financial year. \\nWith that said, I come to an end of my quarterly updates. Thank you and we are now open to \\nanswer any questions that you would have. \\nModerator: Thank you very much. We will now begin the question -and-answer session. Our first question \\nis from the line of Amit Hiranandani from SMIFS Limited. Please go ahead. \\nAmit Hiranandani: My first question is basically what was the contribution from new products in the consolidated \\nrevenue and what was it in FY23? \\nMahendra Naredi: So Amit, a good question and our contribution for this quarter was around 10% and it was around \\nthe same in the last year. \\nAmit Hiranandani: And sir, we understand that Exotech margins on Q oQ has slightly dropped , possibly we \\nunderstand tha t due to the new products development, trial runs and etc ., So wanted to'),\n",
              "  Document(id='b80d8bcc-3ce2-4abf-bd67-4eaa8c3e6b5e', metadata={'source': 'https://drive.google.com/uc?export=download&id=1sXv22YMcuSp9_w9JTjySwtVMhHsnZUOK', 'page': 16}, page_content=\"term costs that may impact margins in the short term. That is what is behind the 40% guidance \\nthat we've done. \\nMahendra Naredi: And just to supplement here, one is the business side. Another is when we made the acquisition \\nof Walter Pack, we have taken the loans for that. So there will be interest cost on that plus our \\ninternal accrual or our cash balance has been used to fund this acquisition which was earlier \\ngenerating income and now th is income will be very negligible income in FY24. So all three \\nfacts will make the PAT at 40% growth over last year. \\nModerator: Our next question is from the line of Amit Hiranandani from SMIFS Limited. Please go ahead. \\nAmit Hiranandani: Just continuing with the WP I side, if you sir can tell us more about going forward strategy in \\ndomestic and exports? I understand export is almost zero for WPI. Is there any restriction from \\nWPI Spain that we can't go in certain countries or we can't acquire any customers. And on the\"),\n",
              "  Document(id='3905eb7c-514f-4a94-ba8f-a5975bb87094', metadata={'source': 'https://drive.google.com/uc?export=download&id=1sXv22YMcuSp9_w9JTjySwtVMhHsnZUOK', 'page': 4}, page_content='Appointing sales agents in South America, is helping us to strengthen our presence in that region. \\nWe intend to hire more such agents in North America and Europe as well to grow exports. We \\nare seeing gradual pickup in demand in North America and Europe. This bounce back in export \\nrevenue will definitely help us grow further and it reinstates our belief that exports will be one \\nof the core growth drivers for our company in the future. \\nApart from adding two new customers like Autoliv  and Toyota Tsusho as I mentioned earlier, \\nwe continue to expand our wallet share by winning new businesses from key customers like \\nMahindra, TVS, Visteon, Hyundai, Bajaj Auto Continental, Honda Motorcycles & Scooters \\namongst others.'),\n",
              "  Document(id='a35ed6de-4977-463a-a574-72fc159c45f4', metadata={'source': 'https://drive.google.com/uc?export=download&id=1sXv22YMcuSp9_w9JTjySwtVMhHsnZUOK', 'page': 4}, page_content='of 18 .6% YoY on account of new business wins and increasing share of business in the \\nautomotive segment. Overall consolidated S JS sales grew by 13.6% year -on-year, partially \\nimpacted on account of slow recovery in the consumer appliances segment and some degrowth \\nin the farm equipment segment.  \\nHowever, I would like to inform you that we are seeing improvement in the export markets and \\nour export revenue almost doubled for the quarter compared to last year same quarter which was \\nimpacted due to geopolitic al issues in Europe and also macroeconomic slowdown in North \\nAmerica. \\nThe increase in export revenue this quarter is largely due to winning new businesses with our \\nexisting customers in South America and EMEA. Our exports initiatives are playing out steadily. \\nAppointing sales agents in South America, is helping us to strengthen our presence in that region. \\nWe intend to hire more such agents in North America and Europe as well to grow exports. We')],\n",
              " 'answer': 'The key changes in the business mentioned are:\\n\\n* Contribution from new products in consolidated revenue was around 10% this quarter, similar to last year.\\n* The company acquired Walter Pack and took loans for it, which will result in interest costs and a reduction in internal accrual, impacting profitability.\\n* Export revenue almost doubled for the quarter compared to last year, mainly due to winning new businesses with existing customers in South America and EMEA.\\n* The company is hiring more sales agents in North America and Europe to grow exports and strengthen its presence in those regions.'}"
            ]
          },
          "metadata": {},
          "execution_count": 34
        }
      ]
    },
    {
      "cell_type": "code",
      "source": [
        "results = rag_chain.invoke({\"input\": \"What are the key triggers?\"})\n",
        "\n",
        "results"
      ],
      "metadata": {
        "colab": {
          "base_uri": "https://localhost:8080/"
        },
        "id": "rmLVhdDkP2ro",
        "outputId": "63ef5900-c995-430b-f257-d38b60897938"
      },
      "execution_count": 35,
      "outputs": [
        {
          "output_type": "execute_result",
          "data": {
            "text/plain": [
              "{'input': 'What are the key triggers?',\n",
              " 'context': [Document(id='f692186e-a296-4448-9106-a83c9d5a6347', metadata={'source': 'https://drive.google.com/uc?export=download&id=1sXv22YMcuSp9_w9JTjySwtVMhHsnZUOK', 'page': 7}, page_content='This of course will be post consolidating at 90.1% stake in Walter Pack for a nine month period \\nin this financial year. \\nWith that said, I come to an end of my quarterly updates. Thank you and we are now open to \\nanswer any questions that you would have. \\nModerator: Thank you very much. We will now begin the question -and-answer session. Our first question \\nis from the line of Amit Hiranandani from SMIFS Limited. Please go ahead. \\nAmit Hiranandani: My first question is basically what was the contribution from new products in the consolidated \\nrevenue and what was it in FY23? \\nMahendra Naredi: So Amit, a good question and our contribution for this quarter was around 10% and it was around \\nthe same in the last year. \\nAmit Hiranandani: And sir, we understand that Exotech margins on Q oQ has slightly dropped , possibly we \\nunderstand tha t due to the new products development, trial runs and etc ., So wanted to'),\n",
              "  Document(id='2aba3a81-7a88-4eb1-9273-a0f6e44e1718', metadata={'source': 'https://drive.google.com/uc?export=download&id=1sXv22YMcuSp9_w9JTjySwtVMhHsnZUOK', 'page': 11}, page_content='when the customer sees this. So at the moment we are working on some developme nt projects \\nwhich I think are very exciting technologies. So cross selling to two wheeler customers and cross \\nselling to our large consumer appliance customers. So Whirlpools of the world, Samsungs of the \\nworld, they use a lot of large IML parts which require deep forming which at SJS we could not \\ndo, now with Walter Pack those markets are within reach for us and we already enjoy a very \\nstrong customer relationship. So I see th e synergy playing out extremely well in terms of how \\ngrowth at Walter Pack will come plus how is the whole entity, all these three companies working \\ntogether could offer some solutions which are truly innovative. \\nDevanshi Dhruva: Especially, on the Exotech and on the Walter Pack side, both the places we have added new \\npassenger vehicle customers. So in fact, there will be a lot of cross selling opportunities between'),\n",
              "  Document(id='b80d8bcc-3ce2-4abf-bd67-4eaa8c3e6b5e', metadata={'source': 'https://drive.google.com/uc?export=download&id=1sXv22YMcuSp9_w9JTjySwtVMhHsnZUOK', 'page': 16}, page_content=\"term costs that may impact margins in the short term. That is what is behind the 40% guidance \\nthat we've done. \\nMahendra Naredi: And just to supplement here, one is the business side. Another is when we made the acquisition \\nof Walter Pack, we have taken the loans for that. So there will be interest cost on that plus our \\ninternal accrual or our cash balance has been used to fund this acquisition which was earlier \\ngenerating income and now th is income will be very negligible income in FY24. So all three \\nfacts will make the PAT at 40% growth over last year. \\nModerator: Our next question is from the line of Amit Hiranandani from SMIFS Limited. Please go ahead. \\nAmit Hiranandani: Just continuing with the WP I side, if you sir can tell us more about going forward strategy in \\ndomestic and exports? I understand export is almost zero for WPI. Is there any restriction from \\nWPI Spain that we can't go in certain countries or we can't acquire any customers. And on the\"),\n",
              "  Document(id='7cde088d-dd5a-4dc2-8aec-1b204e3396e6', metadata={'source': 'https://drive.google.com/uc?export=download&id=1sXv22YMcuSp9_w9JTjySwtVMhHsnZUOK', 'page': 3}, page_content='acquisition, we have penetrated deeper in passenger vehicles and consumer appliances segment, \\nthereby further reducing our two wheeler dependence. According to SJ S Q1 FY24 pro forma \\nnumbers, which includes Walter  Pack India, 36% revenue contribution would be from two \\nwheelers, 36% from passenger vehicles and 28% from consumer appliances and others. Both \\nExotech and Walter Pack acquisition have helped us to balance our portfolio concentration from \\na large two wheeler player to an overall automotive and consumer appliances player. \\nWith Walter Pack acquisition, we have not only acquired a very large growth and high margin \\nbusiness at a good valuation, but at the same time achieved many k ey strategic objectives in \\nterms of addition of new and emerging technologies, new customers, manufacturing capabilities \\nand increase management bandwidth. \\nI would also like to highlight that Roy Mathew , one of the founders of Walter Pack India will')],\n",
              " 'answer': \"Based on the provided context, the key triggers mentioned are:\\n\\n1. Cross-selling opportunities between Exotech and Walter Pack's customers, particularly with two-wheeler and large consumer appliance customers.\\n2. Addition of new and emerging technologies through the Walter Pack acquisition.\\n3. New customers acquired through the Walter Pack acquisition, including passenger vehicle and consumer appliances customers.\\n4. Increased manufacturing capabilities through the Walter Pack acquisition.\\n5. Increase in management bandwidth through the Walter Pack acquisition.\\n\\nThese triggers are expected to drive growth, particularly in the passenger vehicles and consumer appliances segments, and reduce the company's dependence on the two-wheeler segment.\"}"
            ]
          },
          "metadata": {},
          "execution_count": 35
        }
      ]
    },
    {
      "cell_type": "code",
      "source": [
        "results = rag_chain.invoke({\"input\": \"What is the important information that might have a material effect on next year's earnings and growth?\"})\n",
        "\n",
        "results"
      ],
      "metadata": {
        "colab": {
          "base_uri": "https://localhost:8080/"
        },
        "id": "Vehd9uMVQGWn",
        "outputId": "6be5a3ea-5107-4b75-e63a-997a0c09f088"
      },
      "execution_count": 36,
      "outputs": [
        {
          "output_type": "execute_result",
          "data": {
            "text/plain": [
              "{'input': \"What is the important information that might have a material effect on next year's earnings and growth?\",\n",
              " 'context': [Document(id='f692186e-a296-4448-9106-a83c9d5a6347', metadata={'source': 'https://drive.google.com/uc?export=download&id=1sXv22YMcuSp9_w9JTjySwtVMhHsnZUOK', 'page': 7}, page_content='This of course will be post consolidating at 90.1% stake in Walter Pack for a nine month period \\nin this financial year. \\nWith that said, I come to an end of my quarterly updates. Thank you and we are now open to \\nanswer any questions that you would have. \\nModerator: Thank you very much. We will now begin the question -and-answer session. Our first question \\nis from the line of Amit Hiranandani from SMIFS Limited. Please go ahead. \\nAmit Hiranandani: My first question is basically what was the contribution from new products in the consolidated \\nrevenue and what was it in FY23? \\nMahendra Naredi: So Amit, a good question and our contribution for this quarter was around 10% and it was around \\nthe same in the last year. \\nAmit Hiranandani: And sir, we understand that Exotech margins on Q oQ has slightly dropped , possibly we \\nunderstand tha t due to the new products development, trial runs and etc ., So wanted to'),\n",
              "  Document(id='f47d83da-432d-4630-97f5-32fa3ab3d48b', metadata={'source': 'https://drive.google.com/uc?export=download&id=1sXv22YMcuSp9_w9JTjySwtVMhHsnZUOK', 'page': 2}, page_content='SJS Enterprises \\nJuly 27, 2023 \\n \\nModerator: Ladies and gentlemen, good day and welcome to the SJS Enterprises 1Q FY24 Earnings \\nConference Call hosted by JM Financial. \\nAs a reminder, all participant lines will be in the listen -only mode and there will be an \\nopportunity for you to ask questions after the presentation concludes. Should you need assistance \\nduring the conference call, please signal an operator by pressing ‘*’ then ‘0’on a touc htone \\nphone. Please note that this conference is being recorded. \\nI now hand the conference over to Mr. Ronak Mehta from JM Financial. Thank you and over to \\nyou, Mr. Mehta. \\nRonak Mehta: From JM Financial Institutional Securities, I welcome you all to 1Q FY24 Earnings Call of SJS \\nEnterprises. From the Management Team, we have with us today, Mr. K A Joseph – Managing \\nDirector and Co-Founder; Mr. Sanjay Thapar - CEO and Executive Director ; Mr. Mahendra \\nNaredi - Chief Financial Officer and Ms. Devanshi Dhruva – Head, Investor Relations.'),\n",
              "  Document(id='b80d8bcc-3ce2-4abf-bd67-4eaa8c3e6b5e', metadata={'source': 'https://drive.google.com/uc?export=download&id=1sXv22YMcuSp9_w9JTjySwtVMhHsnZUOK', 'page': 16}, page_content=\"term costs that may impact margins in the short term. That is what is behind the 40% guidance \\nthat we've done. \\nMahendra Naredi: And just to supplement here, one is the business side. Another is when we made the acquisition \\nof Walter Pack, we have taken the loans for that. So there will be interest cost on that plus our \\ninternal accrual or our cash balance has been used to fund this acquisition which was earlier \\ngenerating income and now th is income will be very negligible income in FY24. So all three \\nfacts will make the PAT at 40% growth over last year. \\nModerator: Our next question is from the line of Amit Hiranandani from SMIFS Limited. Please go ahead. \\nAmit Hiranandani: Just continuing with the WP I side, if you sir can tell us more about going forward strategy in \\ndomestic and exports? I understand export is almost zero for WPI. Is there any restriction from \\nWPI Spain that we can't go in certain countries or we can't acquire any customers. And on the\"),\n",
              "  Document(id='054c29d0-9c55-449c-9f8b-6194e51ec2da', metadata={'source': 'https://drive.google.com/uc?export=download&id=1sXv22YMcuSp9_w9JTjySwtVMhHsnZUOK', 'page': 13}, page_content=\"wanted to see like what was it last quarter because you mentioned that the exports have grown \\nin this quarter? \\nMahendra Naredi: Last quarter our export was 7.9% which has now gone up to 11%. \\nDevanshi Dhruva: In fact the entire last year, if you will see because of the geopolitical issues in Europe as well as \\nmacroeconomic issues in North America, exports had been impacted. And overall for the year \\nin fact exports took a dip of almost 32% degrowth, but this year w e are seeing the demand \\ncoming back in Europe as well as we are winning new businesses on our export front . So that's \\nwhy we are seeing the growth coming back and export revenue has almost doubled this quarter \\nas compared to last year same quarter. \\nShrinjana Mittal: So like going forward like for the year organically we are guiding for around 20%, 25% only for \\nexport business. Like what are we targeting on the growth plan?\")],\n",
              " 'answer': \"According to the transcript, the important information that might have a material effect on next year's earnings and growth is:\\n\\n* The company is acquiring Walter Pack for a nine-month period, which will have an impact on their earnings.\\n* The acquisition will incur interest costs on the loans taken for the purchase, which will reduce their profit after tax (PAT).\\n* The internal accrual or cash balance has been used to fund the acquisition, which was earlier generating income, but will now have a negligible income in FY24.\\n* The company is guiding for a 40% growth in PAT over last year due to these factors.\\n\\nThese points suggest that the acquisition of Walter Pack will have a significant impact on the company's earnings and growth in the next financial year.\"}"
            ]
          },
          "metadata": {},
          "execution_count": 36
        }
      ]
    },
    {
      "cell_type": "code",
      "source": [],
      "metadata": {
        "id": "drOlIz-PUFuH"
      },
      "execution_count": null,
      "outputs": []
    },
    {
      "cell_type": "code",
      "source": [],
      "metadata": {
        "id": "hmFS-qLcUFtE"
      },
      "execution_count": null,
      "outputs": []
    }
  ]
}